{
 "cells": [
  {
   "metadata": {},
   "cell_type": "markdown",
   "source": [
    "# Transformer Hands-On Tutorial: Sentiment Classification & Embedding Visualization\n",
    "This notebook walks through using a pretrained transformer model (`DistilBERT`) for sentiment classification on IMDb reviews, while exploring tokenizer behavior and token embeddings visually.\n",
    "\n",
    "## Step 1: Install and Import Libraries\n"
   ],
   "id": "aeecf28fe94ec69e"
  },
  {
   "metadata": {
    "ExecuteTime": {
     "end_time": "2025-05-21T09:50:43.827035Z",
     "start_time": "2025-05-21T09:50:43.824225Z"
    }
   },
   "cell_type": "code",
   "source": [
    "import os\n",
    "os.environ[\"TOKENIZERS_PARALLELISM\"] = \"false\""
   ],
   "id": "ae964c6e6c3328c4",
   "outputs": [],
   "execution_count": 19
  },
  {
   "metadata": {
    "ExecuteTime": {
     "end_time": "2025-05-21T09:55:35.506940Z",
     "start_time": "2025-05-21T09:55:32.283593Z"
    }
   },
   "cell_type": "code",
   "source": [
    "!pip install transformers datasets torch scikit-learn matplotlib ipywidgets\n",
    "!{sys.executable} -m pip install --upgrade accelerate transformers torch"
   ],
   "id": "80b416783d5f8c3c",
   "outputs": [
    {
     "name": "stdout",
     "output_type": "stream",
     "text": [
      "Requirement already satisfied: transformers in /Users/adirgigi/Documents/BGU/Thesis/CCC/.venv/lib/python3.9/site-packages (4.52.1)\r\n",
      "Requirement already satisfied: datasets in /Users/adirgigi/Documents/BGU/Thesis/CCC/.venv/lib/python3.9/site-packages (3.6.0)\r\n",
      "Requirement already satisfied: torch in /Users/adirgigi/Documents/BGU/Thesis/CCC/.venv/lib/python3.9/site-packages (2.7.0)\r\n",
      "Requirement already satisfied: scikit-learn in /Users/adirgigi/Documents/BGU/Thesis/CCC/.venv/lib/python3.9/site-packages (1.6.1)\r\n",
      "Requirement already satisfied: matplotlib in /Users/adirgigi/Documents/BGU/Thesis/CCC/.venv/lib/python3.9/site-packages (3.9.4)\r\n",
      "Requirement already satisfied: ipywidgets in /Users/adirgigi/Documents/BGU/Thesis/CCC/.venv/lib/python3.9/site-packages (8.1.7)\r\n",
      "Requirement already satisfied: filelock in /Users/adirgigi/Documents/BGU/Thesis/CCC/.venv/lib/python3.9/site-packages (from transformers) (3.18.0)\r\n",
      "Requirement already satisfied: huggingface-hub<1.0,>=0.30.0 in /Users/adirgigi/Documents/BGU/Thesis/CCC/.venv/lib/python3.9/site-packages (from transformers) (0.31.4)\r\n",
      "Requirement already satisfied: numpy>=1.17 in /Users/adirgigi/Documents/BGU/Thesis/CCC/.venv/lib/python3.9/site-packages (from transformers) (2.0.2)\r\n",
      "Requirement already satisfied: packaging>=20.0 in /Users/adirgigi/Documents/BGU/Thesis/CCC/.venv/lib/python3.9/site-packages (from transformers) (25.0)\r\n",
      "Requirement already satisfied: pyyaml>=5.1 in /Users/adirgigi/Documents/BGU/Thesis/CCC/.venv/lib/python3.9/site-packages (from transformers) (6.0.2)\r\n",
      "Requirement already satisfied: regex!=2019.12.17 in /Users/adirgigi/Documents/BGU/Thesis/CCC/.venv/lib/python3.9/site-packages (from transformers) (2024.11.6)\r\n",
      "Requirement already satisfied: requests in /Users/adirgigi/Documents/BGU/Thesis/CCC/.venv/lib/python3.9/site-packages (from transformers) (2.32.3)\r\n",
      "Requirement already satisfied: tokenizers<0.22,>=0.21 in /Users/adirgigi/Documents/BGU/Thesis/CCC/.venv/lib/python3.9/site-packages (from transformers) (0.21.1)\r\n",
      "Requirement already satisfied: safetensors>=0.4.3 in /Users/adirgigi/Documents/BGU/Thesis/CCC/.venv/lib/python3.9/site-packages (from transformers) (0.5.3)\r\n",
      "Requirement already satisfied: tqdm>=4.27 in /Users/adirgigi/Documents/BGU/Thesis/CCC/.venv/lib/python3.9/site-packages (from transformers) (4.67.1)\r\n",
      "Requirement already satisfied: pyarrow>=15.0.0 in /Users/adirgigi/Documents/BGU/Thesis/CCC/.venv/lib/python3.9/site-packages (from datasets) (20.0.0)\r\n",
      "Requirement already satisfied: dill<0.3.9,>=0.3.0 in /Users/adirgigi/Documents/BGU/Thesis/CCC/.venv/lib/python3.9/site-packages (from datasets) (0.3.8)\r\n",
      "Requirement already satisfied: pandas in /Users/adirgigi/Documents/BGU/Thesis/CCC/.venv/lib/python3.9/site-packages (from datasets) (2.2.3)\r\n",
      "Requirement already satisfied: xxhash in /Users/adirgigi/Documents/BGU/Thesis/CCC/.venv/lib/python3.9/site-packages (from datasets) (3.5.0)\r\n",
      "Requirement already satisfied: multiprocess<0.70.17 in /Users/adirgigi/Documents/BGU/Thesis/CCC/.venv/lib/python3.9/site-packages (from datasets) (0.70.16)\r\n",
      "Requirement already satisfied: fsspec[http]<=2025.3.0,>=2023.1.0 in /Users/adirgigi/Documents/BGU/Thesis/CCC/.venv/lib/python3.9/site-packages (from datasets) (2025.3.0)\r\n",
      "Requirement already satisfied: typing-extensions>=4.10.0 in /Users/adirgigi/Documents/BGU/Thesis/CCC/.venv/lib/python3.9/site-packages (from torch) (4.13.2)\r\n",
      "Requirement already satisfied: sympy>=1.13.3 in /Users/adirgigi/Documents/BGU/Thesis/CCC/.venv/lib/python3.9/site-packages (from torch) (1.14.0)\r\n",
      "Requirement already satisfied: networkx in /Users/adirgigi/Documents/BGU/Thesis/CCC/.venv/lib/python3.9/site-packages (from torch) (3.2.1)\r\n",
      "Requirement already satisfied: jinja2 in /Users/adirgigi/Documents/BGU/Thesis/CCC/.venv/lib/python3.9/site-packages (from torch) (3.1.6)\r\n",
      "Requirement already satisfied: scipy>=1.6.0 in /Users/adirgigi/Documents/BGU/Thesis/CCC/.venv/lib/python3.9/site-packages (from scikit-learn) (1.13.1)\r\n",
      "Requirement already satisfied: joblib>=1.2.0 in /Users/adirgigi/Documents/BGU/Thesis/CCC/.venv/lib/python3.9/site-packages (from scikit-learn) (1.5.0)\r\n",
      "Requirement already satisfied: threadpoolctl>=3.1.0 in /Users/adirgigi/Documents/BGU/Thesis/CCC/.venv/lib/python3.9/site-packages (from scikit-learn) (3.6.0)\r\n",
      "Requirement already satisfied: contourpy>=1.0.1 in /Users/adirgigi/Documents/BGU/Thesis/CCC/.venv/lib/python3.9/site-packages (from matplotlib) (1.3.0)\r\n",
      "Requirement already satisfied: cycler>=0.10 in /Users/adirgigi/Documents/BGU/Thesis/CCC/.venv/lib/python3.9/site-packages (from matplotlib) (0.12.1)\r\n",
      "Requirement already satisfied: fonttools>=4.22.0 in /Users/adirgigi/Documents/BGU/Thesis/CCC/.venv/lib/python3.9/site-packages (from matplotlib) (4.58.0)\r\n",
      "Requirement already satisfied: kiwisolver>=1.3.1 in /Users/adirgigi/Documents/BGU/Thesis/CCC/.venv/lib/python3.9/site-packages (from matplotlib) (1.4.7)\r\n",
      "Requirement already satisfied: pillow>=8 in /Users/adirgigi/Documents/BGU/Thesis/CCC/.venv/lib/python3.9/site-packages (from matplotlib) (11.2.1)\r\n",
      "Requirement already satisfied: pyparsing>=2.3.1 in /Users/adirgigi/Documents/BGU/Thesis/CCC/.venv/lib/python3.9/site-packages (from matplotlib) (3.2.3)\r\n",
      "Requirement already satisfied: python-dateutil>=2.7 in /Users/adirgigi/Documents/BGU/Thesis/CCC/.venv/lib/python3.9/site-packages (from matplotlib) (2.9.0.post0)\r\n",
      "Requirement already satisfied: importlib-resources>=3.2.0 in /Users/adirgigi/Documents/BGU/Thesis/CCC/.venv/lib/python3.9/site-packages (from matplotlib) (6.5.2)\r\n",
      "Requirement already satisfied: comm>=0.1.3 in /Users/adirgigi/Documents/BGU/Thesis/CCC/.venv/lib/python3.9/site-packages (from ipywidgets) (0.2.2)\r\n",
      "Requirement already satisfied: ipython>=6.1.0 in /Users/adirgigi/Documents/BGU/Thesis/CCC/.venv/lib/python3.9/site-packages (from ipywidgets) (8.18.1)\r\n",
      "Requirement already satisfied: traitlets>=4.3.1 in /Users/adirgigi/Documents/BGU/Thesis/CCC/.venv/lib/python3.9/site-packages (from ipywidgets) (5.14.3)\r\n",
      "Requirement already satisfied: widgetsnbextension~=4.0.14 in /Users/adirgigi/Documents/BGU/Thesis/CCC/.venv/lib/python3.9/site-packages (from ipywidgets) (4.0.14)\r\n",
      "Requirement already satisfied: jupyterlab_widgets~=3.0.15 in /Users/adirgigi/Documents/BGU/Thesis/CCC/.venv/lib/python3.9/site-packages (from ipywidgets) (3.0.15)\r\n",
      "Requirement already satisfied: aiohttp!=4.0.0a0,!=4.0.0a1 in /Users/adirgigi/Documents/BGU/Thesis/CCC/.venv/lib/python3.9/site-packages (from fsspec[http]<=2025.3.0,>=2023.1.0->datasets) (3.11.18)\r\n",
      "Requirement already satisfied: zipp>=3.1.0 in /Users/adirgigi/Documents/BGU/Thesis/CCC/.venv/lib/python3.9/site-packages (from importlib-resources>=3.2.0->matplotlib) (3.21.0)\r\n",
      "Requirement already satisfied: decorator in /Users/adirgigi/Documents/BGU/Thesis/CCC/.venv/lib/python3.9/site-packages (from ipython>=6.1.0->ipywidgets) (5.2.1)\r\n",
      "Requirement already satisfied: jedi>=0.16 in /Users/adirgigi/Documents/BGU/Thesis/CCC/.venv/lib/python3.9/site-packages (from ipython>=6.1.0->ipywidgets) (0.19.2)\r\n",
      "Requirement already satisfied: matplotlib-inline in /Users/adirgigi/Documents/BGU/Thesis/CCC/.venv/lib/python3.9/site-packages (from ipython>=6.1.0->ipywidgets) (0.1.7)\r\n",
      "Requirement already satisfied: prompt-toolkit<3.1.0,>=3.0.41 in /Users/adirgigi/Documents/BGU/Thesis/CCC/.venv/lib/python3.9/site-packages (from ipython>=6.1.0->ipywidgets) (3.0.51)\r\n",
      "Requirement already satisfied: pygments>=2.4.0 in /Users/adirgigi/Documents/BGU/Thesis/CCC/.venv/lib/python3.9/site-packages (from ipython>=6.1.0->ipywidgets) (2.19.1)\r\n",
      "Requirement already satisfied: stack-data in /Users/adirgigi/Documents/BGU/Thesis/CCC/.venv/lib/python3.9/site-packages (from ipython>=6.1.0->ipywidgets) (0.6.3)\r\n",
      "Requirement already satisfied: exceptiongroup in /Users/adirgigi/Documents/BGU/Thesis/CCC/.venv/lib/python3.9/site-packages (from ipython>=6.1.0->ipywidgets) (1.3.0)\r\n",
      "Requirement already satisfied: pexpect>4.3 in /Users/adirgigi/Documents/BGU/Thesis/CCC/.venv/lib/python3.9/site-packages (from ipython>=6.1.0->ipywidgets) (4.9.0)\r\n",
      "Requirement already satisfied: six>=1.5 in /Users/adirgigi/Documents/BGU/Thesis/CCC/.venv/lib/python3.9/site-packages (from python-dateutil>=2.7->matplotlib) (1.17.0)\r\n",
      "Requirement already satisfied: charset-normalizer<4,>=2 in /Users/adirgigi/Documents/BGU/Thesis/CCC/.venv/lib/python3.9/site-packages (from requests->transformers) (3.4.2)\r\n",
      "Requirement already satisfied: idna<4,>=2.5 in /Users/adirgigi/Documents/BGU/Thesis/CCC/.venv/lib/python3.9/site-packages (from requests->transformers) (3.10)\r\n",
      "Requirement already satisfied: urllib3<3,>=1.21.1 in /Users/adirgigi/Documents/BGU/Thesis/CCC/.venv/lib/python3.9/site-packages (from requests->transformers) (2.4.0)\r\n",
      "Requirement already satisfied: certifi>=2017.4.17 in /Users/adirgigi/Documents/BGU/Thesis/CCC/.venv/lib/python3.9/site-packages (from requests->transformers) (2025.4.26)\r\n",
      "Requirement already satisfied: mpmath<1.4,>=1.1.0 in /Users/adirgigi/Documents/BGU/Thesis/CCC/.venv/lib/python3.9/site-packages (from sympy>=1.13.3->torch) (1.3.0)\r\n",
      "Requirement already satisfied: MarkupSafe>=2.0 in /Users/adirgigi/Documents/BGU/Thesis/CCC/.venv/lib/python3.9/site-packages (from jinja2->torch) (3.0.2)\r\n",
      "Requirement already satisfied: pytz>=2020.1 in /Users/adirgigi/Documents/BGU/Thesis/CCC/.venv/lib/python3.9/site-packages (from pandas->datasets) (2025.2)\r\n",
      "Requirement already satisfied: tzdata>=2022.7 in /Users/adirgigi/Documents/BGU/Thesis/CCC/.venv/lib/python3.9/site-packages (from pandas->datasets) (2025.2)\r\n",
      "Requirement already satisfied: aiohappyeyeballs>=2.3.0 in /Users/adirgigi/Documents/BGU/Thesis/CCC/.venv/lib/python3.9/site-packages (from aiohttp!=4.0.0a0,!=4.0.0a1->fsspec[http]<=2025.3.0,>=2023.1.0->datasets) (2.6.1)\r\n",
      "Requirement already satisfied: aiosignal>=1.1.2 in /Users/adirgigi/Documents/BGU/Thesis/CCC/.venv/lib/python3.9/site-packages (from aiohttp!=4.0.0a0,!=4.0.0a1->fsspec[http]<=2025.3.0,>=2023.1.0->datasets) (1.3.2)\r\n",
      "Requirement already satisfied: async-timeout<6.0,>=4.0 in /Users/adirgigi/Documents/BGU/Thesis/CCC/.venv/lib/python3.9/site-packages (from aiohttp!=4.0.0a0,!=4.0.0a1->fsspec[http]<=2025.3.0,>=2023.1.0->datasets) (5.0.1)\r\n",
      "Requirement already satisfied: attrs>=17.3.0 in /Users/adirgigi/Documents/BGU/Thesis/CCC/.venv/lib/python3.9/site-packages (from aiohttp!=4.0.0a0,!=4.0.0a1->fsspec[http]<=2025.3.0,>=2023.1.0->datasets) (25.3.0)\r\n",
      "Requirement already satisfied: frozenlist>=1.1.1 in /Users/adirgigi/Documents/BGU/Thesis/CCC/.venv/lib/python3.9/site-packages (from aiohttp!=4.0.0a0,!=4.0.0a1->fsspec[http]<=2025.3.0,>=2023.1.0->datasets) (1.6.0)\r\n",
      "Requirement already satisfied: multidict<7.0,>=4.5 in /Users/adirgigi/Documents/BGU/Thesis/CCC/.venv/lib/python3.9/site-packages (from aiohttp!=4.0.0a0,!=4.0.0a1->fsspec[http]<=2025.3.0,>=2023.1.0->datasets) (6.4.4)\r\n",
      "Requirement already satisfied: propcache>=0.2.0 in /Users/adirgigi/Documents/BGU/Thesis/CCC/.venv/lib/python3.9/site-packages (from aiohttp!=4.0.0a0,!=4.0.0a1->fsspec[http]<=2025.3.0,>=2023.1.0->datasets) (0.3.1)\r\n",
      "Requirement already satisfied: yarl<2.0,>=1.17.0 in /Users/adirgigi/Documents/BGU/Thesis/CCC/.venv/lib/python3.9/site-packages (from aiohttp!=4.0.0a0,!=4.0.0a1->fsspec[http]<=2025.3.0,>=2023.1.0->datasets) (1.20.0)\r\n",
      "Requirement already satisfied: parso<0.9.0,>=0.8.4 in /Users/adirgigi/Documents/BGU/Thesis/CCC/.venv/lib/python3.9/site-packages (from jedi>=0.16->ipython>=6.1.0->ipywidgets) (0.8.4)\r\n",
      "Requirement already satisfied: ptyprocess>=0.5 in /Users/adirgigi/Documents/BGU/Thesis/CCC/.venv/lib/python3.9/site-packages (from pexpect>4.3->ipython>=6.1.0->ipywidgets) (0.7.0)\r\n",
      "Requirement already satisfied: wcwidth in /Users/adirgigi/Documents/BGU/Thesis/CCC/.venv/lib/python3.9/site-packages (from prompt-toolkit<3.1.0,>=3.0.41->ipython>=6.1.0->ipywidgets) (0.2.13)\r\n",
      "Requirement already satisfied: executing>=1.2.0 in /Users/adirgigi/Documents/BGU/Thesis/CCC/.venv/lib/python3.9/site-packages (from stack-data->ipython>=6.1.0->ipywidgets) (2.2.0)\r\n",
      "Requirement already satisfied: asttokens>=2.1.0 in /Users/adirgigi/Documents/BGU/Thesis/CCC/.venv/lib/python3.9/site-packages (from stack-data->ipython>=6.1.0->ipywidgets) (3.0.0)\r\n",
      "Requirement already satisfied: pure-eval in /Users/adirgigi/Documents/BGU/Thesis/CCC/.venv/lib/python3.9/site-packages (from stack-data->ipython>=6.1.0->ipywidgets) (0.2.3)\r\n",
      "\r\n",
      "\u001B[1m[\u001B[0m\u001B[34;49mnotice\u001B[0m\u001B[1;39;49m]\u001B[0m\u001B[39;49m A new release of pip is available: \u001B[0m\u001B[31;49m23.2.1\u001B[0m\u001B[39;49m -> \u001B[0m\u001B[32;49m25.1.1\u001B[0m\r\n",
      "\u001B[1m[\u001B[0m\u001B[34;49mnotice\u001B[0m\u001B[1;39;49m]\u001B[0m\u001B[39;49m To update, run: \u001B[0m\u001B[32;49mpip install --upgrade pip\u001B[0m\r\n",
      "Requirement already satisfied: accelerate in /Users/adirgigi/Documents/BGU/Thesis/CCC/.venv/lib/python3.9/site-packages (1.7.0)\r\n",
      "Requirement already satisfied: transformers in /Users/adirgigi/Documents/BGU/Thesis/CCC/.venv/lib/python3.9/site-packages (4.52.1)\r\n",
      "Requirement already satisfied: torch in /Users/adirgigi/Documents/BGU/Thesis/CCC/.venv/lib/python3.9/site-packages (2.7.0)\r\n",
      "Requirement already satisfied: numpy<3.0.0,>=1.17 in /Users/adirgigi/Documents/BGU/Thesis/CCC/.venv/lib/python3.9/site-packages (from accelerate) (2.0.2)\r\n",
      "Requirement already satisfied: packaging>=20.0 in /Users/adirgigi/Documents/BGU/Thesis/CCC/.venv/lib/python3.9/site-packages (from accelerate) (25.0)\r\n",
      "Requirement already satisfied: psutil in /Users/adirgigi/Documents/BGU/Thesis/CCC/.venv/lib/python3.9/site-packages (from accelerate) (7.0.0)\r\n",
      "Requirement already satisfied: pyyaml in /Users/adirgigi/Documents/BGU/Thesis/CCC/.venv/lib/python3.9/site-packages (from accelerate) (6.0.2)\r\n",
      "Requirement already satisfied: huggingface-hub>=0.21.0 in /Users/adirgigi/Documents/BGU/Thesis/CCC/.venv/lib/python3.9/site-packages (from accelerate) (0.31.4)\r\n",
      "Requirement already satisfied: safetensors>=0.4.3 in /Users/adirgigi/Documents/BGU/Thesis/CCC/.venv/lib/python3.9/site-packages (from accelerate) (0.5.3)\r\n",
      "Requirement already satisfied: filelock in /Users/adirgigi/Documents/BGU/Thesis/CCC/.venv/lib/python3.9/site-packages (from transformers) (3.18.0)\r\n",
      "Requirement already satisfied: regex!=2019.12.17 in /Users/adirgigi/Documents/BGU/Thesis/CCC/.venv/lib/python3.9/site-packages (from transformers) (2024.11.6)\r\n",
      "Requirement already satisfied: requests in /Users/adirgigi/Documents/BGU/Thesis/CCC/.venv/lib/python3.9/site-packages (from transformers) (2.32.3)\r\n",
      "Requirement already satisfied: tokenizers<0.22,>=0.21 in /Users/adirgigi/Documents/BGU/Thesis/CCC/.venv/lib/python3.9/site-packages (from transformers) (0.21.1)\r\n",
      "Requirement already satisfied: tqdm>=4.27 in /Users/adirgigi/Documents/BGU/Thesis/CCC/.venv/lib/python3.9/site-packages (from transformers) (4.67.1)\r\n",
      "Requirement already satisfied: typing-extensions>=4.10.0 in /Users/adirgigi/Documents/BGU/Thesis/CCC/.venv/lib/python3.9/site-packages (from torch) (4.13.2)\r\n",
      "Requirement already satisfied: sympy>=1.13.3 in /Users/adirgigi/Documents/BGU/Thesis/CCC/.venv/lib/python3.9/site-packages (from torch) (1.14.0)\r\n",
      "Requirement already satisfied: networkx in /Users/adirgigi/Documents/BGU/Thesis/CCC/.venv/lib/python3.9/site-packages (from torch) (3.2.1)\r\n",
      "Requirement already satisfied: jinja2 in /Users/adirgigi/Documents/BGU/Thesis/CCC/.venv/lib/python3.9/site-packages (from torch) (3.1.6)\r\n",
      "Requirement already satisfied: fsspec in /Users/adirgigi/Documents/BGU/Thesis/CCC/.venv/lib/python3.9/site-packages (from torch) (2025.3.0)\r\n",
      "Requirement already satisfied: mpmath<1.4,>=1.1.0 in /Users/adirgigi/Documents/BGU/Thesis/CCC/.venv/lib/python3.9/site-packages (from sympy>=1.13.3->torch) (1.3.0)\r\n",
      "Requirement already satisfied: MarkupSafe>=2.0 in /Users/adirgigi/Documents/BGU/Thesis/CCC/.venv/lib/python3.9/site-packages (from jinja2->torch) (3.0.2)\r\n",
      "Requirement already satisfied: charset-normalizer<4,>=2 in /Users/adirgigi/Documents/BGU/Thesis/CCC/.venv/lib/python3.9/site-packages (from requests->transformers) (3.4.2)\r\n",
      "Requirement already satisfied: idna<4,>=2.5 in /Users/adirgigi/Documents/BGU/Thesis/CCC/.venv/lib/python3.9/site-packages (from requests->transformers) (3.10)\r\n",
      "Requirement already satisfied: urllib3<3,>=1.21.1 in /Users/adirgigi/Documents/BGU/Thesis/CCC/.venv/lib/python3.9/site-packages (from requests->transformers) (2.4.0)\r\n",
      "Requirement already satisfied: certifi>=2017.4.17 in /Users/adirgigi/Documents/BGU/Thesis/CCC/.venv/lib/python3.9/site-packages (from requests->transformers) (2025.4.26)\r\n",
      "\r\n",
      "\u001B[1m[\u001B[0m\u001B[34;49mnotice\u001B[0m\u001B[1;39;49m]\u001B[0m\u001B[39;49m A new release of pip is available: \u001B[0m\u001B[31;49m23.2.1\u001B[0m\u001B[39;49m -> \u001B[0m\u001B[32;49m25.1.1\u001B[0m\r\n",
      "\u001B[1m[\u001B[0m\u001B[34;49mnotice\u001B[0m\u001B[1;39;49m]\u001B[0m\u001B[39;49m To update, run: \u001B[0m\u001B[32;49mpip install --upgrade pip\u001B[0m\r\n"
     ]
    }
   ],
   "execution_count": 3
  },
  {
   "metadata": {
    "ExecuteTime": {
     "end_time": "2025-05-21T09:55:42.018369Z",
     "start_time": "2025-05-21T09:55:36.836207Z"
    }
   },
   "cell_type": "code",
   "source": [
    "import torch\n",
    "import numpy as np\n",
    "import matplotlib.pyplot as plt\n",
    "from datasets import load_dataset\n",
    "from transformers import (\n",
    "    DistilBertTokenizerFast,\n",
    "    DistilBertForSequenceClassification,\n",
    "    Trainer,\n",
    "    TrainingArguments\n",
    ")\n",
    "from sklearn.metrics import accuracy_score, precision_recall_fscore_support\n",
    "from sklearn.manifold import TSNE"
   ],
   "id": "62f309300acd7d2d",
   "outputs": [
    {
     "name": "stderr",
     "output_type": "stream",
     "text": [
      "/Users/adirgigi/Documents/BGU/Thesis/CCC/.venv/lib/python3.9/site-packages/urllib3/__init__.py:35: NotOpenSSLWarning: urllib3 v2 only supports OpenSSL 1.1.1+, currently the 'ssl' module is compiled with 'LibreSSL 2.8.3'. See: https://github.com/urllib3/urllib3/issues/3020\n",
      "  warnings.warn(\n"
     ]
    }
   ],
   "execution_count": 4
  },
  {
   "metadata": {},
   "cell_type": "markdown",
   "source": "## Step 2: Load IMDb Dataset",
   "id": "414bdd76af1fbee2"
  },
  {
   "metadata": {
    "ExecuteTime": {
     "end_time": "2025-05-21T09:56:21.102182Z",
     "start_time": "2025-05-21T09:56:13.397336Z"
    }
   },
   "cell_type": "code",
   "source": [
    "dataset = load_dataset(\"imdb\")\n",
    "print(dataset)"
   ],
   "id": "39fcc6b79dc6c2bb",
   "outputs": [
    {
     "name": "stdout",
     "output_type": "stream",
     "text": [
      "DatasetDict({\n",
      "    train: Dataset({\n",
      "        features: ['text', 'label'],\n",
      "        num_rows: 25000\n",
      "    })\n",
      "    test: Dataset({\n",
      "        features: ['text', 'label'],\n",
      "        num_rows: 25000\n",
      "    })\n",
      "    unsupervised: Dataset({\n",
      "        features: ['text', 'label'],\n",
      "        num_rows: 50000\n",
      "    })\n",
      "})\n"
     ]
    }
   ],
   "execution_count": 7
  },
  {
   "metadata": {},
   "cell_type": "markdown",
   "source": [
    "---\n",
    "\n",
    "## Step 3: Initialize Tokenizer and Visualize Tokenization\n",
    "\n",
    "We use DistilBERT's tokenizer to see how example sentences are split into tokens."
   ],
   "id": "8cf15d207315574b"
  },
  {
   "metadata": {
    "ExecuteTime": {
     "end_time": "2025-05-21T09:56:25.063426Z",
     "start_time": "2025-05-21T09:56:24.544202Z"
    }
   },
   "cell_type": "code",
   "source": [
    "tokenizer = DistilBertTokenizerFast.from_pretrained('distilbert-base-uncased')\n",
    "\n",
    "example_sentences = [\n",
    "    \"I love deep learning!\",\n",
    "    \"Transformers are powerful models.\",\n",
    "    \"Tokenization splits text into pieces.\",\n",
    "    \"Unbelievable, amazing, and fantastic!\",\n",
    "    \"Transformers' abilities are mind-blowing!\",\n",
    "    \"Co-operate, re-enter, and co-own show hyphenated words.\",\n",
    "    \"COVID-19 pandemic changed the world.\",\n",
    "    \"E-mail and e-commerce are everyday terms now.\",\n",
    "    \"Emojis like 😊, 🚀, and 🧠 are tokenized separately.\",\n",
    "    \"The word 'antidisestablishmentarianism' gets split into many subwords.\",\n",
    "    \"Antisemitism\"\n",
    "]\n",
    "\n",
    "print(\"\\n=== Tokenizer Output Examples ===\")\n",
    "\n",
    "for text in example_sentences:\n",
    "    encoding = tokenizer(text)\n",
    "    tokens = tokenizer.convert_ids_to_tokens(encoding[\"input_ids\"])\n",
    "    print(f\"Text: {text}\")\n",
    "    print(f\"Tokens: {tokens}\")"
   ],
   "id": "94bf5a58f3cc5c08",
   "outputs": [
    {
     "name": "stdout",
     "output_type": "stream",
     "text": [
      "\n",
      "=== Tokenizer Output Examples ===\n",
      "Text: I love deep learning!\n",
      "Tokens: ['[CLS]', 'i', 'love', 'deep', 'learning', '!', '[SEP]']\n",
      "Text: Transformers are powerful models.\n",
      "Tokens: ['[CLS]', 'transformers', 'are', 'powerful', 'models', '.', '[SEP]']\n",
      "Text: Tokenization splits text into pieces.\n",
      "Tokens: ['[CLS]', 'token', '##ization', 'splits', 'text', 'into', 'pieces', '.', '[SEP]']\n",
      "Text: Unbelievable, amazing, and fantastic!\n",
      "Tokens: ['[CLS]', 'unbelievable', ',', 'amazing', ',', 'and', 'fantastic', '!', '[SEP]']\n",
      "Text: Transformers' abilities are mind-blowing!\n",
      "Tokens: ['[CLS]', 'transformers', \"'\", 'abilities', 'are', 'mind', '-', 'blowing', '!', '[SEP]']\n",
      "Text: Co-operate, re-enter, and co-own show hyphenated words.\n",
      "Tokens: ['[CLS]', 'co', '-', 'operate', ',', 're', '-', 'enter', ',', 'and', 'co', '-', 'own', 'show', 'h', '##yp', '##hen', '##ated', 'words', '.', '[SEP]']\n",
      "Text: COVID-19 pandemic changed the world.\n",
      "Tokens: ['[CLS]', 'co', '##vid', '-', '19', 'pan', '##de', '##mic', 'changed', 'the', 'world', '.', '[SEP]']\n",
      "Text: E-mail and e-commerce are everyday terms now.\n",
      "Tokens: ['[CLS]', 'e', '-', 'mail', 'and', 'e', '-', 'commerce', 'are', 'everyday', 'terms', 'now', '.', '[SEP]']\n",
      "Text: Emojis like 😊, 🚀, and 🧠 are tokenized separately.\n",
      "Tokens: ['[CLS]', 'em', '##oj', '##is', 'like', '[UNK]', ',', '[UNK]', ',', 'and', '[UNK]', 'are', 'token', '##ized', 'separately', '.', '[SEP]']\n",
      "Text: The word 'antidisestablishmentarianism' gets split into many subwords.\n",
      "Tokens: ['[CLS]', 'the', 'word', \"'\", 'anti', '##dis', '##est', '##ab', '##lish', '##ment', '##arian', '##ism', \"'\", 'gets', 'split', 'into', 'many', 'sub', '##words', '.', '[SEP]']\n",
      "Text: Antisemitism\n",
      "Tokens: ['[CLS]', 'anti', '##se', '##mit', '##ism', '[SEP]']\n"
     ]
    }
   ],
   "execution_count": 8
  },
  {
   "metadata": {},
   "cell_type": "markdown",
   "source": [
    "---\n",
    "\n",
    "## Step 4: Load Model and Visualize Token Embeddings with t-SNE\n",
    "\n",
    "Visualize the embeddings of selected tokens in 2D space to understand their relative similarities."
   ],
   "id": "c8bfc313eb579c0e"
  },
  {
   "metadata": {
    "ExecuteTime": {
     "end_time": "2025-05-21T09:56:33.359647Z",
     "start_time": "2025-05-21T09:56:32.446351Z"
    }
   },
   "cell_type": "code",
   "source": [
    "model = DistilBertForSequenceClassification.from_pretrained('distilbert-base-uncased', num_labels=2)\n",
    "embedding_layer = model.distilbert.embeddings.word_embeddings\n",
    "\n",
    "tokens_to_viz = [\n",
    "    \"deep\", \"learning\", \"transformers\", \"powerful\", \"token\", \"tokens\",\n",
    "    \"text\", \"love\", \"hate\", \"happy\", \"sad\", \"joy\", \"unbelievable\", \"amazing\", \"fantastic\",\n",
    "    \"man\", \"men\", \"woman\", \"women\"\n",
    "]\n",
    "\n",
    "token_ids = tokenizer.convert_tokens_to_ids(tokens_to_viz)\n",
    "embeddings = embedding_layer.weight[token_ids].detach().cpu().numpy()\n",
    "\n",
    "tsne = TSNE(n_components=2, perplexity=5, random_state=42)\n",
    "embeddings_2d = tsne.fit_transform(embeddings)\n",
    "\n",
    "plt.figure(figsize=(10, 8))\n",
    "plt.scatter(embeddings_2d[:, 0], embeddings_2d[:, 1])\n",
    "\n",
    "for i, token in enumerate(tokens_to_viz):\n",
    "    plt.annotate(token, (embeddings_2d[i, 0], embeddings_2d[i, 1]))\n",
    "\n",
    "\n",
    "plt.title(\"t-SNE visualization of DistilBERT token embeddings\")\n",
    "plt.xlabel(\"Dimension 1\")\n",
    "plt.ylabel(\"Dimension 2\")\n",
    "plt.grid(True)\n",
    "plt.show()"
   ],
   "id": "d674b683f12c3d6c",
   "outputs": [
    {
     "name": "stderr",
     "output_type": "stream",
     "text": [
      "Some weights of DistilBertForSequenceClassification were not initialized from the model checkpoint at distilbert-base-uncased and are newly initialized: ['classifier.bias', 'classifier.weight', 'pre_classifier.bias', 'pre_classifier.weight']\n",
      "You should probably TRAIN this model on a down-stream task to be able to use it for predictions and inference.\n",
      "huggingface/tokenizers: The current process just got forked, after parallelism has already been used. Disabling parallelism to avoid deadlocks...\n",
      "To disable this warning, you can either:\n",
      "\t- Avoid using `tokenizers` before the fork if possible\n",
      "\t- Explicitly set the environment variable TOKENIZERS_PARALLELISM=(true | false)\n"
     ]
    },
    {
     "data": {
      "text/plain": [
       "<Figure size 1000x800 with 1 Axes>"
      ],
      "image/png": "[encoded data removed]"
     },
     "metadata": {},
     "output_type": "display_data"
    }
   ],
   "execution_count": 9
  },
  {
   "metadata": {},
   "cell_type": "markdown",
   "source": [
    "\n",
    "\n",
    "## Step 5: Tokenize the Entire Dataset\n",
    "\n",
    "Apply the tokenizer to the whole IMDb dataset with padding and truncation."
   ],
   "id": "200e8c60c6f5bccb"
  },
  {
   "metadata": {
    "ExecuteTime": {
     "end_time": "2025-05-21T09:56:42.184045Z",
     "start_time": "2025-05-21T09:56:42.145429Z"
    }
   },
   "cell_type": "code",
   "source": [
    "def tokenize_batch(batch):\n",
    "    return tokenizer(batch['text'], padding=True, truncation=True, max_length=512)\n",
    "\n",
    "encoded_dataset = dataset.map(tokenize_batch, batched=True)\n",
    "encoded_dataset.set_format(type='torch', columns=['input_ids', 'attention_mask', 'label'])"
   ],
   "id": "3120037435115fec",
   "outputs": [],
   "execution_count": 10
  },
  {
   "metadata": {},
   "cell_type": "markdown",
   "source": [
    "---\n",
    "\n",
    "## Step 6: Define Metrics Function for Evaluation"
   ],
   "id": "675180b5281ab22f"
  },
  {
   "metadata": {
    "ExecuteTime": {
     "end_time": "2025-05-21T09:56:45.057519Z",
     "start_time": "2025-05-21T09:56:45.052738Z"
    }
   },
   "cell_type": "code",
   "source": [
    "def compute_metrics(pred):\n",
    "    labels = pred.label_ids\n",
    "    pred = np.argmax(pred.predictions, axis=1)\n",
    "    precision, recall, f1, _ = precision_recall_fscore_support(labels, pred, average='binary')\n",
    "    acc = accuracy_score(labels, pred)\n",
    "\n",
    "    return {\n",
    "        'accuracy': acc,\n",
    "        'precision': precision,\n",
    "        'recall': recall,\n",
    "        'f1': f1\n",
    "    }"
   ],
   "id": "cf6a26400f76bcc5",
   "outputs": [],
   "execution_count": 11
  },
  {
   "metadata": {},
   "cell_type": "markdown",
   "source": [
    "---\n",
    "\n",
    "## Step 7: Setup Training Arguments"
   ],
   "id": "7fa009610270f5d1"
  },
  {
   "metadata": {
    "ExecuteTime": {
     "end_time": "2025-05-21T09:52:13.387296Z",
     "start_time": "2025-05-21T09:52:10.864115Z"
    }
   },
   "cell_type": "code",
   "source": [
    "!pip install \"transformers[torch]\"\n",
    "!pip install 'accelerate>=0.26.0'"
   ],
   "id": "f7cc7e971e9a8aea",
   "outputs": [
    {
     "name": "stdout",
     "output_type": "stream",
     "text": [
      "Requirement already satisfied: transformers[torch] in /Users/adirgigi/Documents/BGU/Thesis/CCC/.venv/lib/python3.9/site-packages (4.52.1)\r\n",
      "Requirement already satisfied: filelock in /Users/adirgigi/Documents/BGU/Thesis/CCC/.venv/lib/python3.9/site-packages (from transformers[torch]) (3.18.0)\r\n",
      "Requirement already satisfied: huggingface-hub<1.0,>=0.30.0 in /Users/adirgigi/Documents/BGU/Thesis/CCC/.venv/lib/python3.9/site-packages (from transformers[torch]) (0.31.4)\r\n",
      "Requirement already satisfied: numpy>=1.17 in /Users/adirgigi/Documents/BGU/Thesis/CCC/.venv/lib/python3.9/site-packages (from transformers[torch]) (2.0.2)\r\n",
      "Requirement already satisfied: packaging>=20.0 in /Users/adirgigi/Documents/BGU/Thesis/CCC/.venv/lib/python3.9/site-packages (from transformers[torch]) (25.0)\r\n",
      "Requirement already satisfied: pyyaml>=5.1 in /Users/adirgigi/Documents/BGU/Thesis/CCC/.venv/lib/python3.9/site-packages (from transformers[torch]) (6.0.2)\r\n",
      "Requirement already satisfied: regex!=2019.12.17 in /Users/adirgigi/Documents/BGU/Thesis/CCC/.venv/lib/python3.9/site-packages (from transformers[torch]) (2024.11.6)\r\n",
      "Requirement already satisfied: requests in /Users/adirgigi/Documents/BGU/Thesis/CCC/.venv/lib/python3.9/site-packages (from transformers[torch]) (2.32.3)\r\n",
      "Requirement already satisfied: tokenizers<0.22,>=0.21 in /Users/adirgigi/Documents/BGU/Thesis/CCC/.venv/lib/python3.9/site-packages (from transformers[torch]) (0.21.1)\r\n",
      "Requirement already satisfied: safetensors>=0.4.3 in /Users/adirgigi/Documents/BGU/Thesis/CCC/.venv/lib/python3.9/site-packages (from transformers[torch]) (0.5.3)\r\n",
      "Requirement already satisfied: tqdm>=4.27 in /Users/adirgigi/Documents/BGU/Thesis/CCC/.venv/lib/python3.9/site-packages (from transformers[torch]) (4.67.1)\r\n",
      "Requirement already satisfied: torch<2.7,>=2.1 in /Users/adirgigi/Documents/BGU/Thesis/CCC/.venv/lib/python3.9/site-packages (from transformers[torch]) (2.6.0)\r\n",
      "Requirement already satisfied: accelerate>=0.26.0 in /Users/adirgigi/Documents/BGU/Thesis/CCC/.venv/lib/python3.9/site-packages (from transformers[torch]) (1.7.0)\r\n",
      "Requirement already satisfied: psutil in /Users/adirgigi/Documents/BGU/Thesis/CCC/.venv/lib/python3.9/site-packages (from accelerate>=0.26.0->transformers[torch]) (7.0.0)\r\n",
      "Requirement already satisfied: fsspec>=2023.5.0 in /Users/adirgigi/Documents/BGU/Thesis/CCC/.venv/lib/python3.9/site-packages (from huggingface-hub<1.0,>=0.30.0->transformers[torch]) (2025.3.0)\r\n",
      "Requirement already satisfied: typing-extensions>=3.7.4.3 in /Users/adirgigi/Documents/BGU/Thesis/CCC/.venv/lib/python3.9/site-packages (from huggingface-hub<1.0,>=0.30.0->transformers[torch]) (4.13.2)\r\n",
      "Requirement already satisfied: networkx in /Users/adirgigi/Documents/BGU/Thesis/CCC/.venv/lib/python3.9/site-packages (from torch<2.7,>=2.1->transformers[torch]) (3.2.1)\r\n",
      "Requirement already satisfied: jinja2 in /Users/adirgigi/Documents/BGU/Thesis/CCC/.venv/lib/python3.9/site-packages (from torch<2.7,>=2.1->transformers[torch]) (3.1.6)\r\n",
      "Requirement already satisfied: sympy==1.13.1 in /Users/adirgigi/Documents/BGU/Thesis/CCC/.venv/lib/python3.9/site-packages (from torch<2.7,>=2.1->transformers[torch]) (1.13.1)\r\n",
      "Requirement already satisfied: mpmath<1.4,>=1.1.0 in /Users/adirgigi/Documents/BGU/Thesis/CCC/.venv/lib/python3.9/site-packages (from sympy==1.13.1->torch<2.7,>=2.1->transformers[torch]) (1.3.0)\r\n",
      "Requirement already satisfied: charset-normalizer<4,>=2 in /Users/adirgigi/Documents/BGU/Thesis/CCC/.venv/lib/python3.9/site-packages (from requests->transformers[torch]) (3.4.2)\r\n",
      "Requirement already satisfied: idna<4,>=2.5 in /Users/adirgigi/Documents/BGU/Thesis/CCC/.venv/lib/python3.9/site-packages (from requests->transformers[torch]) (3.10)\r\n",
      "Requirement already satisfied: urllib3<3,>=1.21.1 in /Users/adirgigi/Documents/BGU/Thesis/CCC/.venv/lib/python3.9/site-packages (from requests->transformers[torch]) (2.4.0)\r\n",
      "Requirement already satisfied: certifi>=2017.4.17 in /Users/adirgigi/Documents/BGU/Thesis/CCC/.venv/lib/python3.9/site-packages (from requests->transformers[torch]) (2025.4.26)\r\n",
      "Requirement already satisfied: MarkupSafe>=2.0 in /Users/adirgigi/Documents/BGU/Thesis/CCC/.venv/lib/python3.9/site-packages (from jinja2->torch<2.7,>=2.1->transformers[torch]) (3.0.2)\r\n",
      "\r\n",
      "\u001B[1m[\u001B[0m\u001B[34;49mnotice\u001B[0m\u001B[1;39;49m]\u001B[0m\u001B[39;49m A new release of pip is available: \u001B[0m\u001B[31;49m23.2.1\u001B[0m\u001B[39;49m -> \u001B[0m\u001B[32;49m25.1.1\u001B[0m\r\n",
      "\u001B[1m[\u001B[0m\u001B[34;49mnotice\u001B[0m\u001B[1;39;49m]\u001B[0m\u001B[39;49m To update, run: \u001B[0m\u001B[32;49mpip install --upgrade pip\u001B[0m\r\n",
      "Requirement already satisfied: accelerate>=0.26.0 in /Users/adirgigi/Documents/BGU/Thesis/CCC/.venv/lib/python3.9/site-packages (1.7.0)\r\n",
      "Requirement already satisfied: numpy<3.0.0,>=1.17 in /Users/adirgigi/Documents/BGU/Thesis/CCC/.venv/lib/python3.9/site-packages (from accelerate>=0.26.0) (2.0.2)\r\n",
      "Requirement already satisfied: packaging>=20.0 in /Users/adirgigi/Documents/BGU/Thesis/CCC/.venv/lib/python3.9/site-packages (from accelerate>=0.26.0) (25.0)\r\n",
      "Requirement already satisfied: psutil in /Users/adirgigi/Documents/BGU/Thesis/CCC/.venv/lib/python3.9/site-packages (from accelerate>=0.26.0) (7.0.0)\r\n",
      "Requirement already satisfied: pyyaml in /Users/adirgigi/Documents/BGU/Thesis/CCC/.venv/lib/python3.9/site-packages (from accelerate>=0.26.0) (6.0.2)\r\n",
      "Requirement already satisfied: torch>=2.0.0 in /Users/adirgigi/Documents/BGU/Thesis/CCC/.venv/lib/python3.9/site-packages (from accelerate>=0.26.0) (2.6.0)\r\n",
      "Requirement already satisfied: huggingface-hub>=0.21.0 in /Users/adirgigi/Documents/BGU/Thesis/CCC/.venv/lib/python3.9/site-packages (from accelerate>=0.26.0) (0.31.4)\r\n",
      "Requirement already satisfied: safetensors>=0.4.3 in /Users/adirgigi/Documents/BGU/Thesis/CCC/.venv/lib/python3.9/site-packages (from accelerate>=0.26.0) (0.5.3)\r\n",
      "Requirement already satisfied: filelock in /Users/adirgigi/Documents/BGU/Thesis/CCC/.venv/lib/python3.9/site-packages (from huggingface-hub>=0.21.0->accelerate>=0.26.0) (3.18.0)\r\n",
      "Requirement already satisfied: fsspec>=2023.5.0 in /Users/adirgigi/Documents/BGU/Thesis/CCC/.venv/lib/python3.9/site-packages (from huggingface-hub>=0.21.0->accelerate>=0.26.0) (2025.3.0)\r\n",
      "Requirement already satisfied: requests in /Users/adirgigi/Documents/BGU/Thesis/CCC/.venv/lib/python3.9/site-packages (from huggingface-hub>=0.21.0->accelerate>=0.26.0) (2.32.3)\r\n",
      "Requirement already satisfied: tqdm>=4.42.1 in /Users/adirgigi/Documents/BGU/Thesis/CCC/.venv/lib/python3.9/site-packages (from huggingface-hub>=0.21.0->accelerate>=0.26.0) (4.67.1)\r\n",
      "Requirement already satisfied: typing-extensions>=3.7.4.3 in /Users/adirgigi/Documents/BGU/Thesis/CCC/.venv/lib/python3.9/site-packages (from huggingface-hub>=0.21.0->accelerate>=0.26.0) (4.13.2)\r\n",
      "Requirement already satisfied: networkx in /Users/adirgigi/Documents/BGU/Thesis/CCC/.venv/lib/python3.9/site-packages (from torch>=2.0.0->accelerate>=0.26.0) (3.2.1)\r\n",
      "Requirement already satisfied: jinja2 in /Users/adirgigi/Documents/BGU/Thesis/CCC/.venv/lib/python3.9/site-packages (from torch>=2.0.0->accelerate>=0.26.0) (3.1.6)\r\n",
      "Requirement already satisfied: sympy==1.13.1 in /Users/adirgigi/Documents/BGU/Thesis/CCC/.venv/lib/python3.9/site-packages (from torch>=2.0.0->accelerate>=0.26.0) (1.13.1)\r\n",
      "Requirement already satisfied: mpmath<1.4,>=1.1.0 in /Users/adirgigi/Documents/BGU/Thesis/CCC/.venv/lib/python3.9/site-packages (from sympy==1.13.1->torch>=2.0.0->accelerate>=0.26.0) (1.3.0)\r\n",
      "Requirement already satisfied: MarkupSafe>=2.0 in /Users/adirgigi/Documents/BGU/Thesis/CCC/.venv/lib/python3.9/site-packages (from jinja2->torch>=2.0.0->accelerate>=0.26.0) (3.0.2)\r\n",
      "Requirement already satisfied: charset-normalizer<4,>=2 in /Users/adirgigi/Documents/BGU/Thesis/CCC/.venv/lib/python3.9/site-packages (from requests->huggingface-hub>=0.21.0->accelerate>=0.26.0) (3.4.2)\r\n",
      "Requirement already satisfied: idna<4,>=2.5 in /Users/adirgigi/Documents/BGU/Thesis/CCC/.venv/lib/python3.9/site-packages (from requests->huggingface-hub>=0.21.0->accelerate>=0.26.0) (3.10)\r\n",
      "Requirement already satisfied: urllib3<3,>=1.21.1 in /Users/adirgigi/Documents/BGU/Thesis/CCC/.venv/lib/python3.9/site-packages (from requests->huggingface-hub>=0.21.0->accelerate>=0.26.0) (2.4.0)\r\n",
      "Requirement already satisfied: certifi>=2017.4.17 in /Users/adirgigi/Documents/BGU/Thesis/CCC/.venv/lib/python3.9/site-packages (from requests->huggingface-hub>=0.21.0->accelerate>=0.26.0) (2025.4.26)\r\n",
      "\r\n",
      "\u001B[1m[\u001B[0m\u001B[34;49mnotice\u001B[0m\u001B[1;39;49m]\u001B[0m\u001B[39;49m A new release of pip is available: \u001B[0m\u001B[31;49m23.2.1\u001B[0m\u001B[39;49m -> \u001B[0m\u001B[32;49m25.1.1\u001B[0m\r\n",
      "\u001B[1m[\u001B[0m\u001B[34;49mnotice\u001B[0m\u001B[1;39;49m]\u001B[0m\u001B[39;49m To update, run: \u001B[0m\u001B[32;49mpip install --upgrade pip\u001B[0m\r\n"
     ]
    }
   ],
   "execution_count": 30
  },
  {
   "metadata": {
    "ExecuteTime": {
     "end_time": "2025-05-21T09:56:48.467059Z",
     "start_time": "2025-05-21T09:56:48.461751Z"
    }
   },
   "cell_type": "code",
   "source": [
    "training_args = TrainingArguments(\n",
    "    output_dir='./output',\n",
    "    num_train_epochs=2,\n",
    "    per_device_train_batch_size=16,\n",
    "    per_device_eval_batch_size=64,\n",
    "    eval_strategy=\"epoch\",\n",
    "    save_strategy=\"epoch\",\n",
    "    logging_dir='./logs',\n",
    "    logging_steps=500,\n",
    "    load_best_model_at_end=True,\n",
    ")"
   ],
   "id": "89896c2799dc0ba8",
   "outputs": [],
   "execution_count": 12
  },
  {
   "metadata": {},
   "cell_type": "markdown",
   "source": [
    "---\n",
    "\n",
    "## Step 8: Initialize Trainer"
   ],
   "id": "8d95e09f3f90d799"
  },
  {
   "metadata": {
    "ExecuteTime": {
     "end_time": "2025-05-21T09:56:51.578679Z",
     "start_time": "2025-05-21T09:56:50.955722Z"
    }
   },
   "cell_type": "code",
   "source": [
    "trainer = Trainer(\n",
    "    model=model,\n",
    "    args=training_args,\n",
    "    train_dataset=encoded_dataset['train'].shuffle(seed=42).select(range(5000)),  # small subset\n",
    "    eval_dataset=encoded_dataset['test'].shuffle(seed=42).select(range(1000)),\n",
    "    compute_metrics=compute_metrics,\n",
    ")"
   ],
   "id": "96a35a8e46b9db63",
   "outputs": [],
   "execution_count": 13
  },
  {
   "metadata": {},
   "cell_type": "markdown",
   "source": [
    "---\n",
    "\n",
    "## Step 9: Train the Model"
   ],
   "id": "7a986317c37da4f6"
  },
  {
   "metadata": {
    "ExecuteTime": {
     "end_time": "2025-05-21T10:40:53.852735Z",
     "start_time": "2025-05-21T09:57:29.650649Z"
    }
   },
   "cell_type": "code",
   "source": "trainer.train()",
   "id": "9232d8025652496e",
   "outputs": [
    {
     "name": "stderr",
     "output_type": "stream",
     "text": [
      "/Users/adirgigi/Documents/BGU/Thesis/CCC/.venv/lib/python3.9/site-packages/torch/utils/data/dataloader.py:683: UserWarning: 'pin_memory' argument is set as true but not supported on MPS now, then device pinned memory won't be used.\n",
      "  warnings.warn(warn_msg)\n"
     ]
    },
    {
     "data": {
      "text/plain": [
       "<IPython.core.display.HTML object>"
      ],
      "text/html": [
       "\n",
       "    <div>\n",
       "      \n",
       "      <progress value='626' max='626' style='width:300px; height:20px; vertical-align: middle;'></progress>\n",
       "      [626/626 43:17, Epoch 2/2]\n",
       "    </div>\n",
       "    <table border=\"1\" class=\"dataframe\">\n",
       "  <thead>\n",
       " <tr style=\"text-align: left;\">\n",
       "      <th>Epoch</th>\n",
       "      <th>Training Loss</th>\n",
       "      <th>Validation Loss</th>\n",
       "      <th>Accuracy</th>\n",
       "      <th>Precision</th>\n",
       "      <th>Recall</th>\n",
       "      <th>F1</th>\n",
       "    </tr>\n",
       "  </thead>\n",
       "  <tbody>\n",
       "    <tr>\n",
       "      <td>1</td>\n",
       "      <td>No log</td>\n",
       "      <td>0.357800</td>\n",
       "      <td>0.866000</td>\n",
       "      <td>0.805172</td>\n",
       "      <td>0.956967</td>\n",
       "      <td>0.874532</td>\n",
       "    </tr>\n",
       "    <tr>\n",
       "      <td>2</td>\n",
       "      <td>0.284400</td>\n",
       "      <td>0.293882</td>\n",
       "      <td>0.899000</td>\n",
       "      <td>0.871401</td>\n",
       "      <td>0.930328</td>\n",
       "      <td>0.899901</td>\n",
       "    </tr>\n",
       "  </tbody>\n",
       "</table><p>"
      ]
     },
     "metadata": {},
     "output_type": "display_data"
    },
    {
     "name": "stderr",
     "output_type": "stream",
     "text": [
      "/Users/adirgigi/Documents/BGU/Thesis/CCC/.venv/lib/python3.9/site-packages/torch/utils/data/dataloader.py:683: UserWarning: 'pin_memory' argument is set as true but not supported on MPS now, then device pinned memory won't be used.\n",
      "  warnings.warn(warn_msg)\n"
     ]
    },
    {
     "data": {
      "text/plain": [
       "TrainOutput(global_step=626, training_loss=0.25554426638082195, metrics={'train_runtime': 2604.0173, 'train_samples_per_second': 3.84, 'train_steps_per_second': 0.24, 'total_flos': 1324673986560000.0, 'train_loss': 0.25554426638082195, 'epoch': 2.0})"
      ]
     },
     "execution_count": 14,
     "metadata": {},
     "output_type": "execute_result"
    }
   ],
   "execution_count": 14
  },
  {
   "metadata": {},
   "cell_type": "markdown",
   "source": [
    "---\n",
    "\n",
    "## Step 10: Evaluate Model on Test Set"
   ],
   "id": "9e8934766bbc3a19"
  },
  {
   "metadata": {
    "ExecuteTime": {
     "end_time": "2025-05-21T10:41:35.688226Z",
     "start_time": "2025-05-21T10:41:10.812847Z"
    }
   },
   "cell_type": "code",
   "source": [
    "eval_results = trainer.evaluate()\n",
    "print(f\"\\nEvaluation results: {eval_results}\")"
   ],
   "id": "4cca16de4dcc2406",
   "outputs": [
    {
     "name": "stderr",
     "output_type": "stream",
     "text": [
      "/Users/adirgigi/Documents/BGU/Thesis/CCC/.venv/lib/python3.9/site-packages/torch/utils/data/dataloader.py:683: UserWarning: 'pin_memory' argument is set as true but not supported on MPS now, then device pinned memory won't be used.\n",
      "  warnings.warn(warn_msg)\n"
     ]
    },
    {
     "data": {
      "text/plain": [
       "<IPython.core.display.HTML object>"
      ],
      "text/html": [
       "\n",
       "    <div>\n",
       "      \n",
       "      <progress value='16' max='16' style='width:300px; height:20px; vertical-align: middle;'></progress>\n",
       "      [16/16 00:22]\n",
       "    </div>\n",
       "    "
      ]
     },
     "metadata": {},
     "output_type": "display_data"
    },
    {
     "name": "stdout",
     "output_type": "stream",
     "text": [
      "\n",
      "Evaluation results: {'eval_loss': 0.29388150572776794, 'eval_accuracy': 0.899, 'eval_precision': 0.8714011516314779, 'eval_recall': 0.930327868852459, 'eval_f1': 0.8999008919722498, 'eval_runtime': 24.8701, 'eval_samples_per_second': 40.209, 'eval_steps_per_second': 0.643, 'epoch': 2.0}\n"
     ]
    }
   ],
   "execution_count": 15
  },
  {
   "metadata": {},
   "cell_type": "markdown",
   "source": [
    "---\n",
    "\n",
    "## Step 11 (Optional): Predict Sentiment on Custom Texts"
   ],
   "id": "2fa5a37807351efb"
  },
  {
   "metadata": {
    "ExecuteTime": {
     "end_time": "2025-05-21T10:46:08.471214Z",
     "start_time": "2025-05-21T10:46:08.356785Z"
    }
   },
   "cell_type": "code",
   "source": [
    "def predict_sentiment(text):\n",
    "    model.eval()\n",
    "    device = torch.device(\"cpu\")\n",
    "    model.to(device)\n",
    "\n",
    "    inputs = tokenizer(text, return_tensors=\"pt\", truncation=True, padding=True, max_length=512)\n",
    "    inputs = {k: v.to(device) for k, v in inputs.items()}\n",
    "\n",
    "    with torch.no_grad():\n",
    "        outputs = model(**inputs)\n",
    "    logits = outputs.logits\n",
    "    predicted_class_id = logits.argmax().item()\n",
    "    prediction = \"Positive\" if predicted_class_id == 1 else \"Negative\"\n",
    "\n",
    "    return prediction\n",
    "\n",
    "custom_texts = [\n",
    "    \"I really enjoyed this movie, it was fantastic!\",\n",
    "    \"This was the worst film I have ever seen.\",\n",
    "    \"The movie was boring as hell.\",\n",
    "    \"I fell asleep watching this movie.\",\n",
    "    \"This movie was worth every penny!\",\n",
    "    \"It's a must\"\n",
    "]\n",
    "\n",
    "print(\"\\n=== Custom Sentiment Predictions ===\")\n",
    "for t in custom_texts:\n",
    "    pred = predict_sentiment(t)\n",
    "    print(f\"Text: {t}\\nPredicted sentiment: {pred}\\n\")\n"
   ],
   "id": "fa0c5f727c477df2",
   "outputs": [
    {
     "name": "stdout",
     "output_type": "stream",
     "text": [
      "\n",
      "=== Custom Sentiment Predictions ===\n",
      "Text: I really enjoyed this movie, it was fantastic!\n",
      "Predicted sentiment: Positive\n",
      "\n",
      "Text: This was the worst film I have ever seen.\n",
      "Predicted sentiment: Negative\n",
      "\n",
      "Text: The movie was boring as hell.\n",
      "Predicted sentiment: Negative\n",
      "\n",
      "Text: I fell asleep watching this movie.\n",
      "Predicted sentiment: Negative\n",
      "\n",
      "Text: This movie was worth every penny!\n",
      "Predicted sentiment: Positive\n",
      "\n",
      "Text: It's a must\n",
      "Predicted sentiment: Positive\n",
      "\n"
     ]
    }
   ],
   "execution_count": 18
  }
 ],
 "metadata": {
  "kernelspec": {
   "display_name": "Python 3",
   "language": "python",
   "name": "python3"
  },
  "language_info": {
   "codemirror_mode": {
    "name": "ipython",
    "version": 2
   },
   "file_extension": ".py",
   "mimetype": "text/x-python",
   "name": "python",
   "nbconvert_exporter": "python",
   "pygments_lexer": "ipython2",
   "version": "2.7.6"
  }
 },
 "nbformat": 4,
 "nbformat_minor": 5
}
